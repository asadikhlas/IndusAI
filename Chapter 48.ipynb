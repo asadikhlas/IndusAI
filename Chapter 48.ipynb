{
 "cells": [
  {
   "cell_type": "markdown",
   "metadata": {},
   "source": [
    "# Chapter 48 Using functions as variables "
   ]
  },
  {
   "cell_type": "code",
   "execution_count": 3,
   "metadata": {},
   "outputs": [
    {
     "name": "stdout",
     "output_type": "stream",
     "text": [
      "hello from function one\n",
      "hello from function two\n",
      "hello from function three\n"
     ]
    }
   ],
   "source": [
    "def one():\n",
    "    print(\"hello from function one\")\n",
    "def two():\n",
    "    print(\"hello from function two\")\n",
    "def three():\n",
    "    print(\"hello from function three\")\n",
    "    \n",
    "# stores the ref of function in variable\n",
    "f1 = one\n",
    "f2 = two\n",
    "f3 = three\n",
    "func_list = [f1, f2, f3]\n",
    "for f in func_list:\n",
    "    f()"
   ]
  },
  {
   "cell_type": "code",
   "execution_count": null,
   "metadata": {},
   "outputs": [],
   "source": []
  }
 ],
 "metadata": {
  "kernelspec": {
   "display_name": "Python 3",
   "language": "python",
   "name": "python3"
  },
  "language_info": {
   "codemirror_mode": {
    "name": "ipython",
    "version": 3
   },
   "file_extension": ".py",
   "mimetype": "text/x-python",
   "name": "python",
   "nbconvert_exporter": "python",
   "pygments_lexer": "ipython3",
   "version": "3.6.5"
  }
 },
 "nbformat": 4,
 "nbformat_minor": 2
}
